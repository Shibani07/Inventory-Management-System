{
  "nbformat": 4,
  "nbformat_minor": 0,
  "metadata": {
    "colab": {
      "name": "Purchasing Products",
      "provenance": [],
      "collapsed_sections": []
    },
    "kernelspec": {
      "name": "python3",
      "display_name": "Python 3"
    },
    "language_info": {
      "name": "python"
    }
  },
  "cells": [
    {
      "cell_type": "code",
      "metadata": {
        "id": "mKigQ-4PS4JS"
      },
      "source": [
        "from datetime import datetime\n",
        "import pytz\n",
        "tz_ind = pytz.timezone('Asia/Kolkata')"
      ],
      "execution_count": 19,
      "outputs": []
    },
    {
      "cell_type": "code",
      "metadata": {
        "colab": {
          "base_uri": "https://localhost:8080/"
        },
        "id": "XDFp_-kLvsKD",
        "outputId": "1752f29a-d03f-40ea-ffc5-71d9b9ced117"
      },
      "source": [
        "import json\n",
        "\n",
        "#Reading record.json file\n",
        "fd = open(\"record.json\",'r')\n",
        "r = fd.read()\n",
        "fd.close()\n",
        "\n",
        "records = json.loads(r)\n",
        "records"
      ],
      "execution_count": 20,
      "outputs": [
        {
          "output_type": "execute_result",
          "data": {
            "text/plain": [
              "{'1001': {'name': 'Choco Cake', 'pr': 100, 'qn': 44},\n",
              " '1002': {'name': 'Milk Cake', 'pr': 800, 'qn': 100},\n",
              " '1003': {'name': 'Drink', 'pr': 85, 'qn': 100},\n",
              " '1004': {'name': 'Candy', 'pr': 5, 'qn': 1000},\n",
              " '1005': {'name': 'Pen', 'pr': 20, 'qn': 100},\n",
              " '1006': {'name': 'Phone', 'pr': 50000, 'qn': 10},\n",
              " '1007': {'name': 'Mic', 'pr': 1500, 'qn': 0},\n",
              " '1008': {'name': 'Case', 'pr': 599, 'qn': 5},\n",
              " '1009': {'name': 'Keyboard', 'pr': 1999, 'qn': 10},\n",
              " '1010': {'name': 'Butter', 'pr': 350, 'qn': 60},\n",
              " '1011': {'name': 'Cheese', 'pr': 400, 'qn': 50},\n",
              " '1012': {'name': 'Paneer', 'pr': 285, 'qn': 40},\n",
              " '1013': {'name': 'Garlic', 'pr': 95, 'qn': 45},\n",
              " '1014': {'name': 'Almonds', 'pr': 575, 'qn': 10},\n",
              " '1015': {'name': 'Mustard oil', 'pr': 175, 'qn': 50},\n",
              " '1016': {'name': 'Coconut oil', 'pr': 140, 'qn': 50},\n",
              " '1017': {'name': 'Pasta', 'pr': 250, 'qn': 45},\n",
              " '1018': {'name': 'Green tea bags', 'pr': 140, 'qn': 20},\n",
              " '1019': {'name': 'Coffee', 'pr': 70, 'qn': 30},\n",
              " '1020': {'name': 'Mango Juice', 'pr': 50, 'qn': 50},\n",
              " '1021': {'name': 'Chocolate Icecream', 'pr': 35, 'qn': 25},\n",
              " '1022': {'name': 'Butterscotch icecream', 'pr': 35, 'qn': 25},\n",
              " '1023': {'name': 'Earphones', 'pr': 550, 'qn': 7},\n",
              " '1024': {'name': 'Phone Charger', 'pr': 200, 'qn': 5},\n",
              " '1025': {'name': 'Notebook', 'pr': 70, 'qn': 24},\n",
              " '1026': {'name': 'Hair Brush', 'pr': 55, 'qn': 5},\n",
              " '1027': {'name': 'Shampoo', 'pr': 160, 'qn': 10},\n",
              " '1028': {'name': 'Moisturizer', 'pr': 340, 'qn': 10},\n",
              " '1029': {'name': 'Oreo biscuit', 'pr': 25, 'qn': 30},\n",
              " '1030': {'name': 'Maggi', 'pr': 70, 'qn': 15},\n",
              " '1031': {'name': 'Perfume', 'pr': 400, 'qn': 10}}"
            ]
          },
          "metadata": {},
          "execution_count": 20
        }
      ]
    },
    {
      "cell_type": "markdown",
      "metadata": {
        "id": "2QdH6p1XwDr1"
      },
      "source": [
        "# **Purchasing Products**"
      ]
    },
    {
      "cell_type": "code",
      "metadata": {
        "id": "n0Q5BZlMt_Kp"
      },
      "source": [
        "#counter to keep track of sales\n",
        "ctr=0"
      ],
      "execution_count": 21,
      "outputs": []
    },
    {
      "cell_type": "code",
      "metadata": {
        "colab": {
          "base_uri": "https://localhost:8080/"
        },
        "id": "mcJhutoowLve",
        "outputId": "7f5f1007-9570-454a-b6f3-fd198184b3f3"
      },
      "source": [
        "print(\"Hello!\")\n",
        "bill_amt = 0\n",
        "\n",
        "ans = 'y' #For a user to buy multiple items\n",
        "while(ans=='y'):\n",
        "  prod_id = str(input(\"Enter the product ID:\"))\n",
        "  quant = int(input(\"Enter the quantity:\"))\n",
        "  \n",
        "  print(\"Product:\", records[prod_id]['name'])\n",
        "  print(\"Price: \", records[prod_id]['pr'])\n",
        "\n",
        "  #if the user inputs quantity more than we have\n",
        "  if (quant>records[prod_id]['qn']):\n",
        "    print(\"Sorry! We dont have enough quantity\")\n",
        "  else:\n",
        "    bill_amt = bill_amt + (records[prod_id]['pr'] * quant)\n",
        "    records[prod_id]['qn'] = records[prod_id]['qn'] - quant\n",
        "\n",
        "    #billing time\n",
        "    now = datetime.now(tz_ind)\n",
        "    current_time = now.strftime(\"%H:%M:%S\")\n",
        "\n",
        "    if (ctr==0):\n",
        "      sales = {1: {'prod' : prod_id, 'time': current_time, 'qn' : quant, 'amount': records[prod_id]['pr'] * quant}}\n",
        "      ctr=ctr+1\n",
        "    else:\n",
        "      sales[len(sales)+1] = {'prod' : prod_id, 'time': current_time, 'qn' : quant, 'amount': records[prod_id]['pr'] * quant}\n",
        "    \n",
        "\n",
        "    #Updating data in records.json\n",
        "    js = json.dumps(records)\n",
        "    fd = open(\"record.json\",'w')\n",
        "    fd.write(js)\n",
        "    fd.close()\n",
        "\n",
        "  print(\"-----------------------------------------\")\n",
        "  ans = str(input(\"Do you want to buy more products? y/n\"))\n",
        "\n",
        "print(\"**************************\")\n",
        "print(\"\\nTotal Billing Amount: \", bill_amt)\n",
        "print(\"Thank you for shopping!\")"
      ],
      "execution_count": 32,
      "outputs": [
        {
          "output_type": "stream",
          "name": "stdout",
          "text": [
            "Hello!\n",
            "Enter the product ID:1008\n",
            "Enter the quantity:3\n",
            "Product: Case\n",
            "Price:  599\n",
            "-----------------------------------------\n",
            "Do you want to buy more products? y/ny\n",
            "Enter the product ID:1026\n",
            "Enter the quantity:2\n",
            "Product: Hair Brush\n",
            "Price:  55\n",
            "-----------------------------------------\n",
            "Do you want to buy more products? y/ny\n",
            "Enter the product ID:1028\n",
            "Enter the quantity:3\n",
            "Product: Moisturizer\n",
            "Price:  340\n",
            "-----------------------------------------\n",
            "Do you want to buy more products? y/ny\n",
            "Enter the product ID:1026\n",
            "Enter the quantity:2\n",
            "Product: Hair Brush\n",
            "Price:  55\n",
            "-----------------------------------------\n",
            "Do you want to buy more products? y/nn\n",
            "**************************\n",
            "\n",
            "Total Billing Amount:  3037\n",
            "Thank you for shopping!\n"
          ]
        }
      ]
    },
    {
      "cell_type": "code",
      "metadata": {
        "colab": {
          "base_uri": "https://localhost:8080/"
        },
        "id": "DmV_D5_Rzjj9",
        "outputId": "111356f1-2c22-4d10-9adc-d8e7c174278c"
      },
      "source": [
        "#Display updated records\n",
        "records"
      ],
      "execution_count": 33,
      "outputs": [
        {
          "output_type": "execute_result",
          "data": {
            "text/plain": [
              "{'1001': {'name': 'Choco Cake', 'pr': 100, 'qn': 44},\n",
              " '1002': {'name': 'Milk Cake', 'pr': 800, 'qn': 100},\n",
              " '1003': {'name': 'Drink', 'pr': 85, 'qn': 100},\n",
              " '1004': {'name': 'Candy', 'pr': 5, 'qn': 992},\n",
              " '1005': {'name': 'Pen', 'pr': 20, 'qn': 100},\n",
              " '1006': {'name': 'Phone', 'pr': 50000, 'qn': 10},\n",
              " '1007': {'name': 'Mic', 'pr': 1500, 'qn': 0},\n",
              " '1008': {'name': 'Case', 'pr': 599, 'qn': 2},\n",
              " '1009': {'name': 'Keyboard', 'pr': 1999, 'qn': 10},\n",
              " '1010': {'name': 'Butter', 'pr': 350, 'qn': 60},\n",
              " '1011': {'name': 'Cheese', 'pr': 400, 'qn': 50},\n",
              " '1012': {'name': 'Paneer', 'pr': 285, 'qn': 40},\n",
              " '1013': {'name': 'Garlic', 'pr': 95, 'qn': 45},\n",
              " '1014': {'name': 'Almonds', 'pr': 575, 'qn': 10},\n",
              " '1015': {'name': 'Mustard oil', 'pr': 175, 'qn': 50},\n",
              " '1016': {'name': 'Coconut oil', 'pr': 140, 'qn': 50},\n",
              " '1017': {'name': 'Pasta', 'pr': 250, 'qn': 45},\n",
              " '1018': {'name': 'Green tea bags', 'pr': 140, 'qn': 20},\n",
              " '1019': {'name': 'Coffee', 'pr': 70, 'qn': 30},\n",
              " '1020': {'name': 'Mango Juice', 'pr': 50, 'qn': 47},\n",
              " '1021': {'name': 'Chocolate Icecream', 'pr': 35, 'qn': 25},\n",
              " '1022': {'name': 'Butterscotch icecream', 'pr': 35, 'qn': 25},\n",
              " '1023': {'name': 'Earphones', 'pr': 550, 'qn': 7},\n",
              " '1024': {'name': 'Phone Charger', 'pr': 200, 'qn': 5},\n",
              " '1025': {'name': 'Notebook', 'pr': 70, 'qn': 21},\n",
              " '1026': {'name': 'Hair Brush', 'pr': 55, 'qn': 1},\n",
              " '1027': {'name': 'Shampoo', 'pr': 160, 'qn': 10},\n",
              " '1028': {'name': 'Moisturizer', 'pr': 340, 'qn': 7},\n",
              " '1029': {'name': 'Oreo biscuit', 'pr': 25, 'qn': 30},\n",
              " '1030': {'name': 'Maggi', 'pr': 70, 'qn': 13},\n",
              " '1031': {'name': 'Perfume', 'pr': 400, 'qn': 9}}"
            ]
          },
          "metadata": {},
          "execution_count": 33
        }
      ]
    },
    {
      "cell_type": "markdown",
      "metadata": {
        "id": "0Ugq3qYw3Tqf"
      },
      "source": [
        "# **Sales**"
      ]
    },
    {
      "cell_type": "code",
      "metadata": {
        "colab": {
          "base_uri": "https://localhost:8080/"
        },
        "id": "K-T0dS-U3YQR",
        "outputId": "18195c68-6c1e-43d7-d20d-175410768df2"
      },
      "source": [
        "#Display the sales\n",
        "sales"
      ],
      "execution_count": 34,
      "outputs": [
        {
          "output_type": "execute_result",
          "data": {
            "text/plain": [
              "{1: {'amount': 10, 'prod': '1004', 'qn': 2, 'time': '20:41:11'},\n",
              " 2: {'amount': 150, 'prod': '1020', 'qn': 3, 'time': '20:41:30'},\n",
              " 3: {'amount': 400, 'prod': '1031', 'qn': 1, 'time': '20:41:52'},\n",
              " 4: {'amount': 140, 'prod': '1030', 'qn': 2, 'time': '20:43:12'},\n",
              " 5: {'amount': 210, 'prod': '1025', 'qn': 3, 'time': '20:43:24'},\n",
              " 6: {'amount': 30, 'prod': '1004', 'qn': 6, 'time': '20:43:41'},\n",
              " 7: {'amount': 1797, 'prod': '1008', 'qn': 3, 'time': '20:44:34'},\n",
              " 8: {'amount': 110, 'prod': '1026', 'qn': 2, 'time': '20:44:49'},\n",
              " 9: {'amount': 1020, 'prod': '1028', 'qn': 3, 'time': '20:45:09'},\n",
              " 10: {'amount': 110, 'prod': '1026', 'qn': 2, 'time': '20:45:33'}}"
            ]
          },
          "metadata": {},
          "execution_count": 34
        }
      ]
    },
    {
      "cell_type": "code",
      "metadata": {
        "id": "fWnmdKn2nu4g"
      },
      "source": [
        "#Writing on sales.json\n",
        "sale = json.dumps(sales)\n",
        "data = open(\"sales.json\", 'w')\n",
        "data.write(sale)\n",
        "data.close()"
      ],
      "execution_count": 35,
      "outputs": []
    },
    {
      "cell_type": "code",
      "metadata": {
        "colab": {
          "base_uri": "https://localhost:8080/"
        },
        "id": "rSax8Wros73e",
        "outputId": "00d90988-156b-460f-85f8-7226ebcb3459"
      },
      "source": [
        "#Reading sales json file\n",
        "data = open(\"sales.json\",'r')\n",
        "r = data.read()\n",
        "data.close()\n",
        "\n",
        "sa = json.loads(r)\n",
        "sa"
      ],
      "execution_count": 36,
      "outputs": [
        {
          "output_type": "execute_result",
          "data": {
            "text/plain": [
              "{'1': {'amount': 10, 'prod': '1004', 'qn': 2, 'time': '20:41:11'},\n",
              " '10': {'amount': 110, 'prod': '1026', 'qn': 2, 'time': '20:45:33'},\n",
              " '2': {'amount': 150, 'prod': '1020', 'qn': 3, 'time': '20:41:30'},\n",
              " '3': {'amount': 400, 'prod': '1031', 'qn': 1, 'time': '20:41:52'},\n",
              " '4': {'amount': 140, 'prod': '1030', 'qn': 2, 'time': '20:43:12'},\n",
              " '5': {'amount': 210, 'prod': '1025', 'qn': 3, 'time': '20:43:24'},\n",
              " '6': {'amount': 30, 'prod': '1004', 'qn': 6, 'time': '20:43:41'},\n",
              " '7': {'amount': 1797, 'prod': '1008', 'qn': 3, 'time': '20:44:34'},\n",
              " '8': {'amount': 110, 'prod': '1026', 'qn': 2, 'time': '20:44:49'},\n",
              " '9': {'amount': 1020, 'prod': '1028', 'qn': 3, 'time': '20:45:09'}}"
            ]
          },
          "metadata": {},
          "execution_count": 36
        }
      ]
    }
  ]
}