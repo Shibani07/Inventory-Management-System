{
  "nbformat": 4,
  "nbformat_minor": 0,
  "metadata": {
    "colab": {
      "name": "Adding New Products.ipynb",
      "provenance": [],
      "collapsed_sections": []
    },
    "kernelspec": {
      "name": "python3",
      "display_name": "Python 3"
    },
    "language_info": {
      "name": "python"
    }
  },
  "cells": [
    {
      "cell_type": "code",
      "metadata": {
        "id": "pzqI4PkXXJoJ"
      },
      "source": [
        "#Reading the records\n",
        "import json\n",
        "fd=open(\"record.json\",'r')\n",
        "r=fd.read()\n",
        "fd.close()"
      ],
      "execution_count": 1,
      "outputs": []
    },
    {
      "cell_type": "code",
      "metadata": {
        "id": "io70cKzLY9A_"
      },
      "source": [
        "records = json.loads(r)\n",
        "records"
      ],
      "execution_count": null,
      "outputs": []
    },
    {
      "cell_type": "markdown",
      "metadata": {
        "id": "6CLqmK-cZMSx"
      },
      "source": [
        "# **Adding New Products**"
      ]
    },
    {
      "cell_type": "code",
      "metadata": {
        "colab": {
          "base_uri": "https://localhost:8080/"
        },
        "id": "w6PAZr6kZUXN",
        "outputId": "9fafa709-4954-4004-84bc-c3d608a565f7"
      },
      "source": [
        "id = str(input(\"Enter product ID:\"))\n",
        "name = str(input(\"Enter the name of the product:\"))\n",
        "price = int(input(\"Enter the price:\"))\n",
        "quant = int(input(\"Enter quantity:\"))\n",
        "\n",
        "if id in records.keys(): #if the product already exists\n",
        "  records[id]['qn']=records[id]['qn']+quant\n",
        "else:\n",
        "  records[id]={'name':name,'pr':price,'qn':quant}\n",
        "\n",
        "#updating in record.json\n",
        "js = json.dumps(records)\n",
        "\n",
        "fd = open(\"record.json\",'w')\n",
        "fd.write(js)\n",
        "fd.close()"
      ],
      "execution_count": 3,
      "outputs": [
        {
          "name": "stdout",
          "output_type": "stream",
          "text": [
            "Enter product ID:1031\n",
            "Enter the name of the product:Perfume\n",
            "Enter the price:400\n",
            "Enter quantity:10\n"
          ]
        }
      ]
    },
    {
      "cell_type": "code",
      "metadata": {
        "colab": {
          "base_uri": "https://localhost:8080/"
        },
        "id": "hgMZ7sSVbu30",
        "outputId": "312975a9-63d7-4e81-862b-d52e67e15590"
      },
      "source": [
        "records"
      ],
      "execution_count": 4,
      "outputs": [
        {
          "output_type": "execute_result",
          "data": {
            "text/plain": [
              "{'1001': {'name': 'Choco Cake', 'pr': 100, 'qn': 44},\n",
              " '1002': {'name': 'Milk Cake', 'pr': 800, 'qn': 100},\n",
              " '1003': {'name': 'Drink', 'pr': 85, 'qn': 100},\n",
              " '1004': {'name': 'Candy', 'pr': 5, 'qn': 1000},\n",
              " '1005': {'name': 'Pen', 'pr': 20, 'qn': 100},\n",
              " '1006': {'name': 'Phone', 'pr': 50000, 'qn': 10},\n",
              " '1007': {'name': 'Mic', 'pr': 1500, 'qn': 0},\n",
              " '1008': {'name': 'Case', 'pr': 599, 'qn': 5},\n",
              " '1009': {'name': 'Keyboard', 'pr': 1999, 'qn': 10},\n",
              " '1010': {'name': 'Butter', 'pr': 350, 'qn': 60},\n",
              " '1011': {'name': 'Cheese', 'pr': 400, 'qn': 50},\n",
              " '1012': {'name': 'Paneer', 'pr': 285, 'qn': 40},\n",
              " '1013': {'name': 'Garlic', 'pr': 95, 'qn': 45},\n",
              " '1014': {'name': 'Almonds', 'pr': 575, 'qn': 10},\n",
              " '1015': {'name': 'Mustard oil', 'pr': 175, 'qn': 50},\n",
              " '1016': {'name': 'Coconut oil', 'pr': 140, 'qn': 50},\n",
              " '1017': {'name': 'Pasta', 'pr': 250, 'qn': 45},\n",
              " '1018': {'name': 'Green tea bags', 'pr': 140, 'qn': 20},\n",
              " '1019': {'name': 'Coffee', 'pr': 70, 'qn': 30},\n",
              " '1020': {'name': 'Mango Juice', 'pr': 50, 'qn': 50},\n",
              " '1021': {'name': 'Chocolate Icecream', 'pr': 35, 'qn': 25},\n",
              " '1022': {'name': 'Butterscotch icecream', 'pr': 35, 'qn': 25},\n",
              " '1023': {'name': 'Earphones', 'pr': 550, 'qn': 7},\n",
              " '1024': {'name': 'Phone Charger', 'pr': 200, 'qn': 5},\n",
              " '1025': {'name': 'Notebook', 'pr': 70, 'qn': 24},\n",
              " '1026': {'name': 'Hair Brush', 'pr': 55, 'qn': 5},\n",
              " '1027': {'name': 'Shampoo', 'pr': 160, 'qn': 10},\n",
              " '1028': {'name': 'Moisturizer', 'pr': 340, 'qn': 10},\n",
              " '1029': {'name': 'Oreo biscuit', 'pr': 25, 'qn': 30},\n",
              " '1030': {'name': 'Maggi', 'pr': 70, 'qn': 15},\n",
              " '1031': {'name': 'Perfume', 'pr': 400, 'qn': 10}}"
            ]
          },
          "metadata": {},
          "execution_count": 4
        }
      ]
    }
  ]
}